{
 "cells": [
  {
   "cell_type": "markdown",
   "metadata": {},
   "source": [
    "We need the options data first. "
   ]
  },
  {
   "cell_type": "code",
   "execution_count": 22,
   "metadata": {},
   "outputs": [],
   "source": [
    "from yahoo_fin.options import get_options_chain\n",
    "import datetime as dt "
   ]
  },
  {
   "cell_type": "code",
   "execution_count": 30,
   "metadata": {},
   "outputs": [
    {
     "name": "stderr",
     "output_type": "stream",
     "text": [
      "c:\\Users\\Mingo\\AppData\\Local\\Programs\\Python\\Python312\\Lib\\site-packages\\yahoo_fin\\options.py:42: FutureWarning: Passing literal html to 'read_html' is deprecated and will be removed in a future version. To read from a literal string, wrap it in a 'StringIO' object.\n",
      "  tables = pd.read_html(requests.get(site, headers=headers).text)\n"
     ]
    },
    {
     "data": {
      "text/plain": [
       "{'calls':          Contract Name Last Trade Date (EDT)               Strike  \\\n",
       " 0  There are no calls.   There are no calls.  There are no calls.   \n",
       " \n",
       "             Last Price                  Bid                  Ask  \\\n",
       " 0  There are no calls.  There are no calls.  There are no calls.   \n",
       " \n",
       "                 Change             % Change               Volume  \\\n",
       " 0  There are no calls.  There are no calls.  There are no calls.   \n",
       " \n",
       "          Open Interest   Implied Volatility  \n",
       " 0  There are no calls.  There are no calls.  ,\n",
       " 'puts':         Contract Name Last Trade Date (EDT)              Strike  \\\n",
       " 0  There are no puts.    There are no puts.  There are no puts.   \n",
       " \n",
       "            Last Price                 Bid                 Ask  \\\n",
       " 0  There are no puts.  There are no puts.  There are no puts.   \n",
       " \n",
       "                Change            % Change              Volume  \\\n",
       " 0  There are no puts.  There are no puts.  There are no puts.   \n",
       " \n",
       "         Open Interest  Implied Volatility  \n",
       " 0  There are no puts.  There are no puts.  }"
      ]
     },
     "execution_count": 30,
     "metadata": {},
     "output_type": "execute_result"
    }
   ],
   "source": [
    "date = dt.datetime(2024,5,2) #* Yesterday \n",
    "aapl_calls = get_options_chain(\"AAPL\", \"05/01/2024\")\n",
    "aapl_calls"
   ]
  }
 ],
 "metadata": {
  "kernelspec": {
   "display_name": "Python 3",
   "language": "python",
   "name": "python3"
  },
  "language_info": {
   "codemirror_mode": {
    "name": "ipython",
    "version": 3
   },
   "file_extension": ".py",
   "mimetype": "text/x-python",
   "name": "python",
   "nbconvert_exporter": "python",
   "pygments_lexer": "ipython3",
   "version": "3.12.2"
  }
 },
 "nbformat": 4,
 "nbformat_minor": 2
}
